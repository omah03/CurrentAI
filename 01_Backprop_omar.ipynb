{
 "cells": [
  {
   "cell_type": "markdown",
   "metadata": {
    "id": "kAS-qcLhoVFy"
   },
   "source": [
    "# Welcome to your first assignment of the SSL lecture\n",
    "\n",
    "We are very glad, that you took the first step and opened this Jupyter Notebook successfully.\n",
    "\n",
    "Please submit your solution of this notebook in the Whiteboard at the corresponding Assignment entry. We need you to upload the .ipynb-file and the exported .pdf of this notebook.\n",
    "\n",
    "This and all the upcoming assignment notebooks will guide you (more or less) through the tasks we want you to solve. You sometimes will find some code snippets, which may help you to solve the tasks. But you are also free to implement your own functions, if you want to.\n",
    "\n",
    "For the first week we want you implement and train a simple neural network with backpropagation, just like we did in the lecture. If you have any questions, ask them in either in the tutorials or in the \"Mattermost\" channel: https://mattermost.imp.fu-berlin.de/biorobotics/channels/ssl_ws_2324\n",
    "\n",
    "The Exercise description states the **RESULT** we will grade."
   ]
  },
  {
   "cell_type": "markdown",
   "metadata": {
    "id": "iTW62CO4oVF1"
   },
   "source": [
    "## Slide Review\n",
    "\n",
    "[Google Form](https://forms.gle/MstgymkWzPcWDFCa7) for the slide review. Please take one minute to scroll over the slides again and improve your lecture."
   ]
  },
  {
   "cell_type": "markdown",
   "metadata": {
    "id": "FBk1iDUeoVF2"
   },
   "source": [
    "#### Please state both names of your group members here:\n",
    "Authors: Can Aydin and Omar Hany Abdelmonem Hamed Ahmed"
   ]
  },
  {
   "cell_type": "markdown",
   "metadata": {
    "id": "Mvg45bD6oVF2"
   },
   "source": [
    "# Assignment 1: Backpropagation\n",
    "We recommend you read the chapter 7.3.3 of the Rojas book (https://www.inf.fu-berlin.de/inst/ag-ki/rojas_home/documents/1996/NeuralNetworks/neuron.pdf), and learn about the \"matrix way\" of implementing backprop.\n",
    "\n",
    "## Ex. 1.1 XOR\n",
    "Implement a two-layer artificial neural network with two input neurons and one output neuron. Choose the number of hidden neurons to your liking. Our goal is to learn the [XOR gate](https://en.wikipedia.org/wiki/XOR_gate). What does the untrained network (= random weights) return for all (four) combinations of inputs? **(RESULT)**"
   ]
  },
  {
   "cell_type": "code",
   "execution_count": 8,
   "metadata": {
    "colab": {
     "base_uri": "https://localhost:8080/"
    },
    "id": "447VHLqJoVF3",
    "outputId": "24a4f117-4620-43ad-c5f5-f34d2b0a2bbe"
   },
   "outputs": [
    {
     "name": "stdout",
     "output_type": "stream",
     "text": [
      "Input [0,0]: 0.7846045367059171\n",
      "Input [0,1]: 0.7908037573533523\n",
      "Input [1,0]: 0.7901832529374861\n",
      "Input [1,1]: 0.7941400331927021\n"
     ]
    }
   ],
   "source": [
    "import numpy as np\n",
    "import seaborn as sns\n",
    "import pandas as pd\n",
    "\n",
    "# model with two hidden layers á 4 neurons\n",
    "\n",
    "weight_matrix_1 = np.array(np.random.rand(2, 4), dtype=np.float128)\n",
    "weight_matrix_2 = np.array(np.random.rand(4, 4), dtype=np.float128)\n",
    "weight_matrix_3 = np.array(np.random.rand(4, 1), dtype=np.float128)\n",
    "\n",
    "bias_nodes_1 = np.array(np.random.rand(1, 4), dtype=np.float128)\n",
    "bias_nodes_2 = np.array(np.random.rand(1, 4), dtype=np.float128)\n",
    "bias_nodes_3 = np.array(np.random.rand(1, 1), dtype=np.float128)\n",
    "\n",
    "\n",
    "def sigmoid(x):\n",
    "    return 1.0 / (1 + np.exp(-x))\n",
    "\n",
    "def forward_pass(x0, x1):\n",
    "    global weight_matrix_1, weight_matrix_2, weight_matrix_3\n",
    "    input_vector = [x0, x1]\n",
    "\n",
    "    h1 = np.dot(input_vector, weight_matrix_1) + bias_nodes_1\n",
    "    s1 = np.array([sigmoid(x) for x in h1])\n",
    "\n",
    "    h2 = np.dot(s1, weight_matrix_2) + bias_nodes_2\n",
    "    s2 = np.array([sigmoid(x) for x in h2])\n",
    "    h3 = np.dot(s2, weight_matrix_3) + bias_nodes_3\n",
    "    s3 = sigmoid(h3)\n",
    "\n",
    "    output = s3[0][0]\n",
    "\n",
    "    return output, h1, h2, h3, s1, s2\n",
    "\n",
    "for d1, d2 in [[0, 0], [0, 1], [1, 0], [1, 1]]:\n",
    "    out,h1,h2,h3,s1,s2 = forward_pass(d1, d2)\n",
    "    print(\"Input [{},{}]: {}\".format(d1, d2, out))"
   ]
  },
  {
   "cell_type": "markdown",
   "metadata": {
    "id": "M-EMtRdDoVF5"
   },
   "source": [
    "## Ex. 1.2 Backpropagation\n",
    "Implement Backpropagation and optimize the weights of your neural network using the XOR training set:\n",
    "\n",
    "### x, y\n",
    "\n",
    "(0,0), 0\n",
    "\n",
    "(0,1), 1\n",
    "\n",
    "(1,0), 1\n",
    "\n",
    "(1,1), 0\n",
    "\n",
    "How many training iterations do you need? Plot the network error over the number of iterations! **(RESULT)**"
   ]
  },
  {
   "cell_type": "code",
   "execution_count": 9,
   "metadata": {
    "colab": {
     "base_uri": "https://localhost:8080/",
     "height": 518
    },
    "id": "npfAvkVSoVF5",
    "outputId": "290b49a6-521a-45e8-a53c-8fa0fb004924"
   },
   "outputs": [
    {
     "data": {
      "text/plain": [
       "<seaborn.axisgrid.FacetGrid at 0x781d0229e110>"
      ]
     },
     "execution_count": 9,
     "metadata": {},
     "output_type": "execute_result"
    },
    {
     "data": {
      "image/png": "[encoded data removed]",
      "text/plain": [
       "<Figure size 500x500 with 1 Axes>"
      ]
     },
     "metadata": {},
     "output_type": "display_data"
    }
   ],
   "source": [
    "def derivative_sigmoid(x):\n",
    "    return sigmoid(x) * (1-sigmoid(x))\n",
    "\n",
    "def backward_pass(x1, x2, h1, h2, h3):\n",
    "    inp = np.array([[x1, x2]])\n",
    "    delta_output_neuron = derivative_sigmoid(h3)\n",
    "\n",
    "    derivative_3 = np.array([derivative_sigmoid(x) for x in h2.T])\n",
    "    delta_layer_3 = np.multiply(derivative_3, (np.dot(delta_output_neuron, weight_matrix_3.T).T))\n",
    "\n",
    "    derivative_2 = np.array([derivative_sigmoid(x) for x in h1.T])\n",
    "    delta_layer_2 = np.multiply(derivative_2, (np.dot(delta_layer_3.T, weight_matrix_2.T).T))\n",
    "\n",
    "    derivative_1 = np.array([derivative_sigmoid(x) for x in inp])\n",
    "    delta_layer_1 = np.multiply(derivative_1.T, (np.dot(delta_layer_2.T, weight_matrix_1.T)).T)\n",
    "\n",
    "    return delta_layer_1, delta_layer_2, delta_layer_3, delta_output_neuron\n",
    "\n",
    "\n",
    "xor_data = [[0, 0], [0, 1], [1, 0], [1, 1]]\n",
    "xor_ground_truth = [0, 1, 1, 0]\n",
    "\n",
    "#print(backward_pass(1, 1, h1, h2, h3))\n",
    "\n",
    "def gradient_descent(data, ground_truth, epochs=1, learning_rate=1):\n",
    "    error_per_epoch = []\n",
    "    global weight_matrix_1, weight_matrix_2, weight_matrix_3\n",
    "    for epoch in range(epochs):\n",
    "        error = 0\n",
    "        gradient_layer_3 = np.zeros((4,1))\n",
    "        gradient_layer_2 = np.zeros((4,4))\n",
    "        gradient_layer_1 = np.zeros((2,4))\n",
    "        for (data0, data1), y_T in zip(data, ground_truth):\n",
    "            output, h1, h2, h3, s1, s2 = forward_pass(data0, data1)\n",
    "\n",
    "            delta_layer_1, delta_layer_2, delta_layer_3, delta_output_neuron = backward_pass(data0, data1, h1, h2, h3)\n",
    "\n",
    "            gradient_layer_3 = gradient_layer_3 + np.dot((np.full((4,1), output) - np.full((4,1), y_T)).T, np.dot(np.full((4,1), delta_output_neuron), s2)).T\n",
    "\n",
    "            gradient_layer_2 = gradient_layer_2 + np.dot((np.full((4,4), output) - np.full((4,4), y_T)).T, np.dot(delta_layer_3, s1)).T\n",
    "\n",
    "            gradient_layer_1 = gradient_layer_1 + np.dot((np.full((4,2), output) - np.full((4,2), y_T)).T, np.dot(delta_layer_2, s1))\n",
    "\n",
    "            error += 0.5 * (y_T - output)**2\n",
    "\n",
    "        # normalize the gradients\n",
    "        p = len(ground_truth)\n",
    "        gradient_layer_1 /= p\n",
    "        gradient_layer_2 /= p\n",
    "        gradient_layer_3 /= p\n",
    "        error /= p\n",
    "        error_per_epoch.append(error)\n",
    "        # gradient descent step\n",
    "        weight_matrix_1 = weight_matrix_1 - learning_rate * gradient_layer_1\n",
    "        weight_matrix_2 = weight_matrix_2 - learning_rate * gradient_layer_2\n",
    "        weight_matrix_3 = weight_matrix_3 - learning_rate * gradient_layer_3\n",
    "\n",
    "    return error_per_epoch\n",
    "\n",
    "epochs = 5000\n",
    "error_per_epoch = gradient_descent(xor_data, xor_ground_truth, epochs=epochs, learning_rate=0.001)\n",
    "\n",
    "plt = pd.DataFrame(data={'error': error_per_epoch, \"epochs\": range(epochs)})\n",
    "sns.set_theme()\n",
    "\n",
    "# Load an example dataset\n",
    "sns.relplot(\n",
    "    data=plt,\n",
    "    x=\"epochs\", y=\"error\",\n",
    ")\n"
   ]
  },
  {
   "cell_type": "code",
   "execution_count": 3,
   "metadata": {
    "colab": {
     "base_uri": "https://localhost:8080/"
    },
    "id": "6VaLQRWtoVF7",
    "outputId": "e8e6c193-c8b8-49f5-db86-4a9c618f4a46"
   },
   "outputs": [
    {
     "name": "stdout",
     "output_type": "stream",
     "text": [
      "0.50789264747562513485\n"
     ]
    }
   ],
   "source": [
    "out,_,_,_,_,_ = forward_pass(1, 0)\n",
    "print(out)"
   ]
  },
  {
   "cell_type": "markdown",
   "metadata": {
    "id": "2WChEBrPoVF8"
   },
   "source": [
    "# Ex. 1.3 MNIST (BONUS)\n",
    "Train your network on the MNIST dataset and state the model accuracy (or the model error) for the training and test sets. **(RESULT)** You can download the dataset using the [PyTorch library](https://pytorch.org/vision/0.15/generated/torchvision.datasets.MNIST.html).\n",
    "\n",
    "Compare your results to this [list](https://rodrigob.github.io/are_we_there_yet/build/classification_datasets_results.html#4d4e495354).\n"
   ]
  },
  {
   "cell_type": "markdown",
   "metadata": {
    "id": "AkqwsFEVtbP3"
   },
   "source": [
    "##Neural Network Class\n"
   ]
  },
  {
   "cell_type": "code",
   "execution_count": 64,
   "metadata": {
    "id": "8c_ZL2rqr_wP"
   },
   "outputs": [],
   "source": [
    "import numpy as np\n",
    "import torchvision\n",
    "from torchvision import transforms\n",
    "\n",
    "class NeuralNetwork:\n",
    "    def __init__(self):\n",
    "        # Initialize the model's parameters\n",
    "        self.weight_matrix_1 = np.array(np.random.rand(784, 128), dtype=np.float128)\n",
    "        self.weight_matrix_2 = np.array(np.random.rand(128, 64), dtype=np.float128)\n",
    "        self.weight_matrix_3 = np.array(np.random.rand(64, 10), dtype=np.float128)  # 10 classes for MNIST\n",
    "        self.bias_nodes_1 = np.array(np.random.rand(1, 128), dtype=np.float128)\n",
    "        self.bias_nodes_2 = np.array(np.random.rand(1, 64), dtype=np.float128)\n",
    "        self.bias_nodes_3 = np.array(np.random.rand(1, 10), dtype=np.float128)\n",
    "\n",
    "    def sigmoid(self, x):\n",
    "        return 1.0 / (1 + np.exp(-x))\n",
    "\n",
    "    def forward_pass(self, x):\n",
    "        input_vector = x\n",
    "        h1 = np.dot(input_vector, self.weight_matrix_1) + self.bias_nodes_1\n",
    "        s1 = np.array([self.sigmoid(x) for x in h1])\n",
    "\n",
    "        h2 = np.dot(s1, self.weight_matrix_2) + self.bias_nodes_2\n",
    "        s2 = np.array([self.sigmoid(x) for x in h2])\n",
    "        h3 = np.dot(s2, self.weight_matrix_3) + self.bias_nodes_3\n",
    "        s3 = h3\n",
    "        output = s3\n",
    "\n",
    "        return output, h1, h2, h3, s1, s2\n",
    "\n",
    "    def derivative_sigmoid(self, x):\n",
    "        return self.sigmoid(x) * (1 - self.sigmoid(x))\n",
    "\n",
    "    def backward_pass(self, x, y, h1, h2, h3):\n",
    "        delta_output_neuron = -(y - x)\n",
    "\n",
    "        delta_layer_3 = delta_output_neuron\n",
    "        delta_layer_2 = np.multiply(delta_layer_3.dot(self.weight_matrix_3.T), self.derivative_sigmoid(h2))\n",
    "        delta_layer_1 = np.multiply(delta_layer_2.dot(self.weight_matrix_2.T), self.derivative_sigmoid(h1)).T\n",
    "\n",
    "        return delta_layer_1, delta_layer_2, delta_layer_3, delta_output_neuron\n",
    "\n",
    "    def gradient_descent(self, data, ground_truth, epochs, learning_rate):\n",
    "        error_per_epoch = []\n",
    "        for epoch in range(epochs):\n",
    "            error = 0\n",
    "            gradient_layer_3 = np.zeros((64, 10))\n",
    "            gradient_layer_2 = np.zeros((128, 64))\n",
    "            gradient_layer_1 = np.zeros((784, 128))\n",
    "\n",
    "            for x, y in zip(data, ground_truth):\n",
    "                output, h1, h2, h3, s1, s2 = self.forward_pass(x)\n",
    "\n",
    "                delta_layer_1, delta_layer_2, delta_layer_3, delta_output_neuron = self.backward_pass(output, y, h1, h2, h3)\n",
    "\n",
    "                gradient_layer_3 = gradient_layer_3 + delta_layer_3.T.dot(s2).T\n",
    "                gradient_layer_2 = gradient_layer_2 + delta_layer_2.T.dot(s1).T\n",
    "                gradient_layer_1 = gradient_layer_1 + x.reshape(-1, 1).dot(delta_layer_1)\n",
    "\n",
    "                error += 0.5 * np.mean((y - output) ** 2)\n",
    "\n",
    "            # normalize the gradients\n",
    "            p = len(ground_truth)\n",
    "            gradient_layer_1 /= p\n",
    "            gradient_layer_2 /= p\n",
    "            gradient_layer_3 /= p\n",
    "            error /= p\n",
    "            error_per_epoch.append(error)\n",
    "            # gradient descent step\n",
    "            self.weight_matrix_1 = self.weight_matrix_1 - learning_rate * gradient_layer_1\n",
    "            self.weight_matrix_2 = self.weight_matrix_2 - learning_rate * gradient_layer_2\n",
    "            self.weight_matrix_3 = self.weight_matrix_3 - learning_rate * gradient_layer_3\n",
    "\n",
    "        return error_per_epoch\n",
    "\n"
   ]
  },
  {
   "cell_type": "code",
   "execution_count": null,
   "metadata": {
    "id": "sj3mGF4o2-Mq"
   },
   "outputs": [],
   "source": [
    "transform = transforms.Compose([transforms.ToTensor(), transforms.Normalize((0.5,), (0.5,))])\n",
    "\n",
    "trainset = torchvision.datasets.MNIST(root='./data', train=True, download=True, transform=transform)\n",
    "trainloader = torch.utils.data.DataLoader(trainset, batch_size=64, shuffle=True)\n",
    "\n",
    "testset = torchvision.datasets.MNIST(root='./data', train=False, download=True, transform=transform)\n",
    "testloader = torch.utils.data.DataLoader(testset, batch_size=64, shuffle=False)\n"
   ]
  },
  {
   "cell_type": "code",
   "execution_count": 65,
   "metadata": {
    "colab": {
     "base_uri": "https://localhost:8080/",
     "height": 368
    },
    "id": "J7BLvGw0vY6J",
    "outputId": "0cc1f47a-284a-403a-fec9-d3e49b5174fc"
   },
   "outputs": [
    {
     "ename": "ValueError",
     "evalue": "ignored",
     "output_type": "error",
     "traceback": [
      "\u001b[0;31m---------------------------------------------------------------------------\u001b[0m",
      "\u001b[0;31mValueError\u001b[0m                                Traceback (most recent call last)",
      "\u001b[0;32m<ipython-input-65-660e9b4cdd36>\u001b[0m in \u001b[0;36m<cell line: 6>\u001b[0;34m()\u001b[0m\n\u001b[1;32m     17\u001b[0m         \u001b[0mdelta_layer_1\u001b[0m\u001b[0;34m,\u001b[0m \u001b[0mdelta_layer_2\u001b[0m\u001b[0;34m,\u001b[0m \u001b[0mdelta_layer_3\u001b[0m\u001b[0;34m,\u001b[0m \u001b[0mdelta_output_neuron\u001b[0m \u001b[0;34m=\u001b[0m \u001b[0mnetwork\u001b[0m\u001b[0;34m.\u001b[0m\u001b[0mbackward_pass\u001b[0m\u001b[0;34m(\u001b[0m\u001b[0moutputs\u001b[0m\u001b[0;34m,\u001b[0m \u001b[0mone_hot_labels\u001b[0m\u001b[0;34m,\u001b[0m \u001b[0mh1\u001b[0m\u001b[0;34m,\u001b[0m \u001b[0mh2\u001b[0m\u001b[0;34m,\u001b[0m \u001b[0mh3\u001b[0m\u001b[0;34m)\u001b[0m\u001b[0;34m\u001b[0m\u001b[0;34m\u001b[0m\u001b[0m\n\u001b[1;32m     18\u001b[0m \u001b[0;34m\u001b[0m\u001b[0m\n\u001b[0;32m---> 19\u001b[0;31m         \u001b[0mnetwork\u001b[0m\u001b[0;34m.\u001b[0m\u001b[0mgradient_descent\u001b[0m\u001b[0;34m(\u001b[0m\u001b[0minputs\u001b[0m\u001b[0;34m,\u001b[0m \u001b[0mone_hot_labels\u001b[0m\u001b[0;34m,\u001b[0m \u001b[0mepochs\u001b[0m\u001b[0;34m=\u001b[0m\u001b[0;36m1\u001b[0m\u001b[0;34m,\u001b[0m \u001b[0mlearning_rate\u001b[0m\u001b[0;34m=\u001b[0m\u001b[0mlearning_rate\u001b[0m\u001b[0;34m)\u001b[0m\u001b[0;34m\u001b[0m\u001b[0;34m\u001b[0m\u001b[0m\n\u001b[0m\u001b[1;32m     20\u001b[0m \u001b[0;34m\u001b[0m\u001b[0m\n\u001b[1;32m     21\u001b[0m     \u001b[0mprint\u001b[0m\u001b[0;34m(\u001b[0m\u001b[0;34mf'Epoch {epoch + 1}/{num_epochs}, Loss: {error_per_epoch[-1]}'\u001b[0m\u001b[0;34m)\u001b[0m\u001b[0;34m\u001b[0m\u001b[0;34m\u001b[0m\u001b[0m\n",
      "\u001b[0;32m<ipython-input-64-27aed32e3453>\u001b[0m in \u001b[0;36mgradient_descent\u001b[0;34m(self, data, ground_truth, epochs, learning_rate)\u001b[0m\n\u001b[1;32m     56\u001b[0m                 \u001b[0mgradient_layer_3\u001b[0m \u001b[0;34m=\u001b[0m \u001b[0mgradient_layer_3\u001b[0m \u001b[0;34m+\u001b[0m \u001b[0mdelta_layer_3\u001b[0m\u001b[0;34m.\u001b[0m\u001b[0mT\u001b[0m\u001b[0;34m.\u001b[0m\u001b[0mdot\u001b[0m\u001b[0;34m(\u001b[0m\u001b[0ms2\u001b[0m\u001b[0;34m)\u001b[0m\u001b[0;34m.\u001b[0m\u001b[0mT\u001b[0m\u001b[0;34m\u001b[0m\u001b[0;34m\u001b[0m\u001b[0m\n\u001b[1;32m     57\u001b[0m                 \u001b[0mgradient_layer_2\u001b[0m \u001b[0;34m=\u001b[0m \u001b[0mgradient_layer_2\u001b[0m \u001b[0;34m+\u001b[0m \u001b[0mdelta_layer_2\u001b[0m\u001b[0;34m.\u001b[0m\u001b[0mT\u001b[0m\u001b[0;34m.\u001b[0m\u001b[0mdot\u001b[0m\u001b[0;34m(\u001b[0m\u001b[0ms1\u001b[0m\u001b[0;34m)\u001b[0m\u001b[0;34m.\u001b[0m\u001b[0mT\u001b[0m\u001b[0;34m\u001b[0m\u001b[0;34m\u001b[0m\u001b[0m\n\u001b[0;32m---> 58\u001b[0;31m                 \u001b[0mgradient_layer_1\u001b[0m \u001b[0;34m=\u001b[0m \u001b[0mgradient_layer_1\u001b[0m \u001b[0;34m+\u001b[0m \u001b[0mx\u001b[0m\u001b[0;34m.\u001b[0m\u001b[0mreshape\u001b[0m\u001b[0;34m(\u001b[0m\u001b[0;34m-\u001b[0m\u001b[0;36m1\u001b[0m\u001b[0;34m,\u001b[0m \u001b[0;36m1\u001b[0m\u001b[0;34m)\u001b[0m\u001b[0;34m.\u001b[0m\u001b[0mdot\u001b[0m\u001b[0;34m(\u001b[0m\u001b[0mdelta_layer_1\u001b[0m\u001b[0;34m)\u001b[0m\u001b[0;34m\u001b[0m\u001b[0;34m\u001b[0m\u001b[0m\n\u001b[0m\u001b[1;32m     59\u001b[0m \u001b[0;34m\u001b[0m\u001b[0m\n\u001b[1;32m     60\u001b[0m                 \u001b[0merror\u001b[0m \u001b[0;34m+=\u001b[0m \u001b[0;36m0.5\u001b[0m \u001b[0;34m*\u001b[0m \u001b[0mnp\u001b[0m\u001b[0;34m.\u001b[0m\u001b[0mmean\u001b[0m\u001b[0;34m(\u001b[0m\u001b[0;34m(\u001b[0m\u001b[0my\u001b[0m \u001b[0;34m-\u001b[0m \u001b[0moutput\u001b[0m\u001b[0;34m)\u001b[0m \u001b[0;34m**\u001b[0m \u001b[0;36m2\u001b[0m\u001b[0;34m)\u001b[0m\u001b[0;34m\u001b[0m\u001b[0;34m\u001b[0m\u001b[0m\n",
      "\u001b[0;31mValueError\u001b[0m: shapes (784,1) and (128,1) not aligned: 1 (dim 1) != 128 (dim 0)"
     ]
    }
   ],
   "source": [
    "network = NeuralNetwork()\n",
    "\n",
    "learning_rate = 0.001\n",
    "num_epochs = 10\n",
    "\n",
    "for epoch in range(num_epochs):\n",
    "    for inputs, labels in trainloader:\n",
    "        inputs = inputs.view(inputs.size(0),-1)\n",
    "        inputs = inputs.numpy()\n",
    "        labels = labels.numpy()\n",
    "\n",
    "        outputs, h1, h2, h3, s1, s2 = network.forward_pass(inputs)\n",
    "\n",
    "        one_hot_labels = np.zeros((len(labels), 10))\n",
    "        one_hot_labels[np.arange(len(labels)), labels] = 1\n",
    "\n",
    "        delta_layer_1, delta_layer_2, delta_layer_3, delta_output_neuron = network.backward_pass(outputs, one_hot_labels, h1, h2, h3)\n",
    "\n",
    "        network.gradient_descent(inputs, one_hot_labels, epochs=1, learning_rate=learning_rate)\n",
    "\n",
    "    print(f'Epoch {epoch + 1}/{num_epochs}, Loss: {error_per_epoch[-1]}')\n",
    "\n",
    "network.eval()\n",
    "correct = 0\n",
    "total = 0\n",
    "with torch.no_grad():\n",
    "    for inputs, labels in testloader:\n",
    "        inputs = inputs.numpy()\n",
    "        labels = labels.numpy()\n",
    "        outputs, _, _, _, _, _ = network.forward_pass(inputs)\n",
    "        predicted = np.argmax(outputs, axis=1)\n",
    "        total += labels.shape[0]\n",
    "        correct += (predicted == labels).sum()\n",
    "\n",
    "print(f'Accuracy: {100 * correct / total}%')\n",
    "\n"
   ]
  },
  {
   "cell_type": "code",
   "execution_count": null,
   "metadata": {
    "id": "osH5qXFXxxns"
   },
   "outputs": [],
   "source": []
  }
 ],
 "metadata": {
  "accelerator": "GPU",
  "colab": {
   "gpuType": "T4",
   "provenance": []
  },
  "kernelspec": {
   "display_name": "Python 3 (ipykernel)",
   "language": "python",
   "name": "python3"
  },
  "language_info": {
   "codemirror_mode": {
    "name": "ipython",
    "version": 3
   },
   "file_extension": ".py",
   "mimetype": "text/x-python",
   "name": "python",
   "nbconvert_exporter": "python",
   "pygments_lexer": "ipython3",
   "version": "3.11.4"
  }
 },
 "nbformat": 4,
 "nbformat_minor": 4
}
