{
 "cells": [
  {
   "cell_type": "markdown",
   "metadata": {
    "id": "qbqm1T4SfFZZ"
   },
   "source": [
    "# Welcome to your second assignment!\n",
    "\n",
    "Please submit your solution of this notebook in the Whiteboard at the corresponding Assignment entry. We need you to upload the .ipynb-file and the exported .pdf of this notebook.\n",
    "\n",
    "If you have any questions, ask them in either in the tutorials or in the \"Mattermost\" channel: https://mattermost.imp.fu-berlin.de/biorobotics/channels/ssl_ws_2324\n",
    "\n",
    "\n",
    "In this assignment, we want you to get more comfortable with unsupervised learning algorithms and building models using the machine learning library [PyTorch](https://pytorch.org/). This also includes deadling with latent representations of our model."
   ]
  },
  {
   "cell_type": "markdown",
   "metadata": {
    "id": "kbTH4Tn5fFZc"
   },
   "source": [
    "# Slide Review\n",
    "\n",
    "[Google Form](https://forms.gle/7EjyGKvmbBUT2N7y7) for the slide review. Please take a minute to scroll over the slides again and improve your lecture.\n",
    "\n",
    "Please make sure to only choose your top 5 slides per lecture!"
   ]
  },
  {
   "cell_type": "markdown",
   "metadata": {
    "id": "FS7qa2CJfFZd"
   },
   "source": [
    "# PapagAI\n",
    "\n",
    "From this week onwards we start the reflective study we told you about on the first lecture.\n",
    "Register on the [PapagAI website](https://www.papag.ai) and write your first reflection about your impressions and challenges in the context of the lectures and tutorials you had this and previous week. The size of reflection can be anywhere bigger than 100 words. You can check out this [YouTube video](https://www.youtube.com/watch?v=QdmZHocZQBk&ab_channel=FernandoRamosL%C3%B3pez) with instructions on how to register, create a reflection and get an ai feedback.\n",
    "\n",
    "Please note, that this task is an obligatory one for this course and make sure each of you does the reflection, not only one person per group."
   ]
  },
  {
   "cell_type": "markdown",
   "metadata": {
    "id": "87QTGXPufFZd"
   },
   "source": [
    "#### Please state both names of your group members here:\n",
    "Authors: Omar Ahmed and Can Aydin"
   ]
  },
  {
   "cell_type": "markdown",
   "metadata": {
    "id": "fEFuhluefFZe"
   },
   "source": [
    "# Assignment 2: DeepCluster\n",
    "\n",
    "Inspired by [DeepCluster](https://arxiv.org/pdf/1807.05520.pdf), we want you perform representation learning on the MNIST dataset using kMeans.\n",
    "\n",
    "\n",
    "## Ex. 2.1 Building a PyTorch model\n",
    "Build a model with the follwoing architecture:\n",
    "\n",
    "### *Input layer -> 4x Conv layer with [8,16,32,16] channels (kernel size of your choice) -> 1 FC layer -> output layer* <br>\n",
    "\n",
    "Further information on the training process:\n",
    "- Use ReLU functions as activations for all layers except the output layer,\n",
    "- Use the softmax function on your output,\n",
    "- Your training algorithm should use mini-batches with the size of your choice,\n",
    "- Pick the optimizer you like the most\n",
    "\n",
    "Train your classifier model on the [MNIST](https://pytorch.org/vision/main/generated/torchvision.datasets.MNIST.html) handwritten digits dataset. You should be able to achieve an accuracy of at least 95% on the test set. Plot the loss per training epoch/iteration.  **(RESULT)**"
   ]
  },
  {
   "cell_type": "code",
   "execution_count": null,
   "metadata": {
    "colab": {
     "base_uri": "https://localhost:8080/"
    },
    "id": "aBPUk3u4fFZe",
    "outputId": "25fc0015-5213-4d9c-a185-d9dbfb169ad5"
   },
   "outputs": [
    {
     "name": "stdout",
     "output_type": "stream",
     "text": [
      "Epoch 0, Test Loss: 0.0808, Test Accuracy: 97.53%\n",
      "Epoch 1, Test Loss: 0.0829, Test Accuracy: 97.55%\n",
      "Epoch 2, Test Loss: 0.0514, Test Accuracy: 98.50%\n",
      "Epoch 3, Test Loss: 0.0487, Test Accuracy: 98.60%\n",
      "Epoch 4, Test Loss: 0.0493, Test Accuracy: 98.50%\n",
      "Epoch 5, Test Loss: 0.0682, Test Accuracy: 98.17%\n",
      "Epoch 6, Test Loss: 0.0569, Test Accuracy: 98.54%\n",
      "Epoch 7, Test Loss: 0.0615, Test Accuracy: 98.47%\n",
      "Epoch 8, Test Loss: 0.0586, Test Accuracy: 98.67%\n",
      "Epoch 9, Test Loss: 0.0622, Test Accuracy: 98.67%\n"
     ]
    }
   ],
   "source": [
    "import torch\n",
    "import torch.nn as nn\n",
    "import torch.optim as optim\n",
    "import torchvision.transforms as transforms\n",
    "import torchvision.datasets as datasets\n",
    "from torch.utils.data import DataLoader, random_split\n",
    "import torch.nn.functional as F\n",
    "import matplotlib.pyplot as plt\n",
    "\n",
    "torch.manual_seed(42)\n",
    "\n",
    "class ConvNeuralNetwork(nn.Module):\n",
    "    def __init__(self):\n",
    "        super(ConvNeuralNetwork, self).__init__()\n",
    "        self.conv_layers = nn.Sequential(\n",
    "            nn.Conv2d(1, 8, kernel_size=3, stride=1, padding=1),\n",
    "            nn.ReLU(),\n",
    "            nn.Conv2d(8, 16, kernel_size=3, stride=1, padding=1),\n",
    "            nn.ReLU(),\n",
    "            nn.Conv2d(16, 32, kernel_size=3, stride=1, padding=1),\n",
    "            nn.ReLU(),\n",
    "            nn.Conv2d(32, 16, kernel_size=3, stride=1, padding=1),\n",
    "            nn.ReLU(),\n",
    "        )\n",
    "        self.linear_layers = nn.Sequential(\n",
    "            nn.Linear(16 * 28 * 28, 32),\n",
    "            nn.ReLU(),\n",
    "            nn.Linear(32, 10)\n",
    "        )\n",
    "\n",
    "    def forward(self, x):\n",
    "        x = self.conv_layers(x)\n",
    "        x = x.view(x.size(0), -1)\n",
    "        x = self.linear_layers(x)\n",
    "        return x\n",
    "\n",
    "########Preparing the data########\n",
    "\n",
    "transform = transforms.Compose([transforms.ToTensor(), transforms.Normalize((0.5,), (0.5,))])\n",
    "mnist_dataset = datasets.MNIST(root='./data', train=True, download=True, transform=transform)\n",
    "\n",
    "train_size = int(0.8 * len(mnist_dataset))\n",
    "test_size = len(mnist_dataset) - train_size\n",
    "\n",
    "train_dataset, test_dataset = random_split(mnist_dataset, [train_size, test_size])\n",
    "\n",
    "batch_size = 32\n",
    "\n",
    "train_loader = DataLoader(train_dataset, batch_size=batch_size, shuffle=True)\n",
    "test_loader = DataLoader(test_dataset, batch_size=batch_size, shuffle=False)\n",
    "\n",
    "########Preparing the data########\n",
    "\n",
    "\n",
    "model = ConvNeuralNetwork()\n",
    "optimizer = optim.Adam(model.parameters(), lr = 0.001)\n",
    "loss_function = nn.CrossEntropyLoss()\n",
    "\n",
    "\n",
    "train_loss_values = []\n",
    "test_Loss_values = []\n",
    "epoch_count = []\n",
    "epochs = 10\n",
    "\n",
    "for epoch in range(epochs):\n",
    "    model.train()\n",
    "\n",
    "    for data in train_loader:\n",
    "        inputs, labels = data\n",
    "        optimizer.zero_grad()\n",
    "        y_train = model(inputs)\n",
    "        loss = loss_function(y_train, labels)\n",
    "        loss.backward()\n",
    "        optimizer.step()\n",
    "\n",
    "    model.eval()\n",
    "    test_loss = 0.0\n",
    "    correct_predictions = 0\n",
    "    total_samples = 0\n",
    "\n",
    "###TESTING\n",
    "\n",
    "    for data in test_loader:\n",
    "        inputs, labels = data\n",
    "        y_test = model(inputs)\n",
    "        batch_loss = loss_function(y_test, labels)\n",
    "        test_loss += batch_loss.item()\n",
    "        y_test_softmax = F.softmax(y_test, dim=1)\n",
    "\n",
    "        _, predicted = torch.max(y_test_softmax, 1)\n",
    "        correct_predictions += (predicted == labels).sum().item()\n",
    "        total_samples += labels.size(0)\n",
    "\n",
    "    test_loss /= len(test_loader)\n",
    "    test_accuracy = correct_predictions / total_samples\n",
    "    train_loss_values.append(test_loss)\n",
    "    test_loss_values.append(test_accuracy)\n",
    "    epoch_count.append(epoch + 1)\n",
    "\n",
    "    print(f\"Epoch {epoch}, Test Loss: {test_loss:.4f}, Test Accuracy: {100 * test_accuracy:.2f}%\")\n",
    "\n"
   ]
  },
  {
   "cell_type": "code",
   "execution_count": null,
   "metadata": {
    "colab": {
     "base_uri": "https://localhost:8080/"
    },
    "id": "TAmxvU7_AMEX",
    "outputId": "d60f6c73-d92f-41a9-c2d5-78a646f0a490"
   },
   "outputs": [
    {
     "name": "stdout",
     "output_type": "stream",
     "text": [
      "1500\n",
      "[0.08082376696945479, 0.08288445129354174, 0.05137445692718029, 0.04870263392136743, 0.049311647151829674, 0.06815476758424968, 0.05687556516452241, 0.06148018531590545, 0.058574949036900456, 0.062227720326865285]\n"
     ]
    }
   ],
   "source": [
    "\n",
    "print(len(train_loader)) # 60000 / 32\n",
    "print(train_loss_values)"
   ]
  },
  {
   "cell_type": "markdown",
   "metadata": {
    "id": "gCztnInNfFZg"
   },
   "source": [
    "## Ex. 2.2 kMeans\n",
    "\n",
    "Implement the k-Means clustering algorithm. **(RESULT)**\n",
    "\n",
    "Plot the within cluster variance for different k's on the MNIST test set. **(RESULT)**"
   ]
  },
  {
   "cell_type": "code",
   "execution_count": null,
   "metadata": {
    "colab": {
     "base_uri": "https://localhost:8080/",
     "height": 1000
    },
    "id": "ebMbyhhtfFZh",
    "outputId": "5642338e-ce61-4427-b1ad-50d34fe65963"
   },
   "outputs": [
    {
     "name": "stderr",
     "output_type": "stream",
     "text": [
      "\n",
      "  0%|          | 0/5 [00:00<?, ?it/s]\u001b[A\n",
      " 20%|██        | 1/5 [00:10<00:42, 10.58s/it]"
     ]
    },
    {
     "name": "stdout",
     "output_type": "stream",
     "text": [
      "Converged after 1 iterations\n"
     ]
    },
    {
     "name": "stderr",
     "output_type": "stream",
     "text": [
      "\n",
      "\n",
      " 20%|██        | 1/5 [24:28<1:37:55, 1468.88s/it]\n",
      "\n",
      " 20%|██        | 1/5 [00:05<00:23,  5.92s/it]\u001b[A\n",
      " 40%|████      | 2/5 [00:10<00:16,  5.42s/it]\u001b[A\n",
      " 60%|██████    | 3/5 [00:16<00:11,  5.55s/it]\u001b[A\n",
      " 80%|████████  | 4/5 [00:21<00:05,  5.33s/it]\u001b[A\n",
      "100%|██████████| 5/5 [00:27<00:00,  5.49s/it]\u001b[A\n",
      "6it [00:32,  5.40s/it]                       \u001b[A\n",
      "7it [00:38,  5.57s/it]\u001b[A\n",
      "8it [00:44,  5.78s/it]\u001b[A\n",
      "9it [00:50,  5.67s/it]\u001b[A\n",
      "10it [00:55,  5.67s/it]\u001b[A\n",
      "11it [01:01,  5.55s/it]\u001b[A\n",
      "12it [01:07,  5.63s/it]\u001b[A\n",
      "13it [01:12,  5.48s/it]\u001b[A\n",
      "14it [01:17,  5.57s/it]\u001b[A\n",
      "15it [01:23,  5.44s/it]\u001b[A\n",
      "16it [01:29,  5.63s/it]\u001b[A\n",
      "17it [01:34,  5.52s/it]\u001b[A\n",
      "18it [01:40,  5.83s/it]\u001b[A\n",
      "19it [01:46,  5.84s/it]\u001b[A\n",
      "20it [01:52,  5.89s/it]\u001b[A\n",
      "21it [02:04,  5.91s/it]"
     ]
    },
    {
     "name": "stdout",
     "output_type": "stream",
     "text": [
      "Converged after 21 iterations\n"
     ]
    },
    {
     "name": "stderr",
     "output_type": "stream",
     "text": [
      "\n",
      "27it [02:50,  6.31s/it]"
     ]
    },
    {
     "name": "stdout",
     "output_type": "stream",
     "text": [
      "Converged after 27 iterations\n"
     ]
    },
    {
     "name": "stderr",
     "output_type": "stream",
     "text": [
      "\n",
      "41it [04:28,  6.54s/it]"
     ]
    },
    {
     "name": "stdout",
     "output_type": "stream",
     "text": [
      "Converged after 41 iterations\n"
     ]
    },
    {
     "name": "stderr",
     "output_type": "stream",
     "text": [
      "\n",
      "31it [03:24,  6.59s/it]"
     ]
    },
    {
     "name": "stdout",
     "output_type": "stream",
     "text": [
      "Converged after 31 iterations\n"
     ]
    },
    {
     "name": "stderr",
     "output_type": "stream",
     "text": [
      "\n",
      "24it [02:34,  6.45s/it]"
     ]
    },
    {
     "name": "stdout",
     "output_type": "stream",
     "text": [
      "Converged after 24 iterations\n"
     ]
    },
    {
     "name": "stderr",
     "output_type": "stream",
     "text": [
      "\n",
      "28it [03:01,  6.48s/it]"
     ]
    },
    {
     "name": "stdout",
     "output_type": "stream",
     "text": [
      "Converged after 28 iterations\n"
     ]
    },
    {
     "name": "stderr",
     "output_type": "stream",
     "text": [
      "\n",
      "44it [04:52,  6.64s/it]"
     ]
    },
    {
     "name": "stdout",
     "output_type": "stream",
     "text": [
      "Converged after 44 iterations\n"
     ]
    },
    {
     "name": "stderr",
     "output_type": "stream",
     "text": [
      "\n",
      "36it [04:08,  6.90s/it]"
     ]
    },
    {
     "name": "stdout",
     "output_type": "stream",
     "text": [
      "Converged after 36 iterations\n"
     ]
    },
    {
     "name": "stderr",
     "output_type": "stream",
     "text": [
      "\n"
     ]
    },
    {
     "data": {
      "image/png": "[encoded data removed]",
      "text/plain": [
       "<Figure size 640x480 with 1 Axes>"
      ]
     },
     "metadata": {},
     "output_type": "display_data"
    }
   ],
   "source": [
    "import torch\n",
    "import torchvision\n",
    "import torchvision.datasets as datasets\n",
    "import torchvision.transforms as transforms\n",
    "from torch.utils.data import DataLoader, random_split\n",
    "import random\n",
    "from tqdm import tqdm\n",
    "import matplotlib.pyplot as plt\n",
    "\n",
    "\n",
    "########Preparing the data########\n",
    "transform = transforms.Compose([transforms.ToTensor(), transforms.Normalize((0.5,), (0.5,))])\n",
    "mnist_dataset = datasets.MNIST(root='./data', train=True, transform=transform, download=True)\n",
    "\n",
    "train_size = int(0.8 * len(mnist_dataset))\n",
    "test_size = len(mnist_dataset) - train_size\n",
    "\n",
    "train_dataset, test_dataset = random_split(mnist_dataset, [train_size, test_size])\n",
    "\n",
    "batch_size = 32\n",
    "train_loader = DataLoader(train_dataset, batch_size=batch_size, shuffle=True)\n",
    "test_loader = DataLoader(test_dataset, batch_size=batch_size, shuffle=False)\n",
    "########Preparing the data########\n",
    "\n",
    "\n",
    "#for batch in train_loader:\n",
    "    #inputs, labels = batch\n",
    "    #print(\"Input data shape:\", inputs.shape)\n",
    "    #print(\"Labels:\", labels)\n",
    "\n",
    "\"\"\"\n",
    "K-means roadmap:\n",
    "1) Initalize empty clusters and randomize the respective centriods\n",
    "2) Assign datapoints to centriods\n",
    "3) Update centriods\n",
    "4) Stop when converged\n",
    "\n",
    "Choosing k\n",
    "1) Elbow method\n",
    "\"\"\"\n",
    "\n",
    "\"\"\"\n",
    "1) Initalizing the empty clusters and randomizing the respective centroids\"\"\"\n",
    "\n",
    "\n",
    "def your_kMeans(train_data,K,convergence_threshold=1e-4):\n",
    "  random_index = random.sample(range(len(test_loader.dataset)),K)\n",
    "  # One tensor contraining 5 centriods, each centriod is represented as a row\n",
    "  centriods = torch.stack([test_loader.dataset[i][0] for i in random_index])\n",
    "  cluster_assigns = [None] * len(test_loader.dataset)\n",
    "\n",
    "  pbar = tqdm(total=5)  # progress bar\n",
    "  iteration = 0\n",
    "\n",
    "\n",
    "  \"\"\"2) Assign datapoints to centriods\"\"\"\n",
    "\n",
    "  while True:\n",
    "    old_centroids = centriods.clone()\n",
    "    for i, (data,_) in enumerate(test_loader.dataset):\n",
    "      #Gets list of 5 distances, one for each centriod\n",
    "      distances = [torch.dist(data,centriod)for centriod in centriods]\n",
    "      temp = torch.argmin(torch.stack(distances))\n",
    "      cluster_assigns[i] = temp\n",
    "\n",
    "    \"\"\"3) Update centriods\"\"\"\n",
    "\n",
    "    for clx in range(K):\n",
    "      cluster_ind = [i for i, allocation in enumerate(cluster_assigns) if allocation == clx]\n",
    "      new_cluster_id = torch.stack([test_loader.dataset[i][0] for i in cluster_ind])\n",
    "      centriods[clx] = new_cluster_id.mean(dim=0)\n",
    "\n",
    "    \"\"\"4) Stop when converged\"\"\"\n",
    "\n",
    "    max_movement = torch.max(torch.abs(centriods - old_centroids))\n",
    "    if max_movement < convergence_threshold:\n",
    "        print(f\"Converged after {iteration} iterations\")\n",
    "        break\n",
    "    pbar.update(1)\n",
    "    iteration += 1\n",
    "  pbar.close()\n",
    "  return cluster_assigns, centriods\n",
    "\n",
    "def calculate_within_cluster_variance(data, cluster_assigns, centriods):\n",
    "    variances = [0] * K\n",
    "    for i in range(K):\n",
    "        cluster_data = [data[j][0] for j in range(len(data)) if cluster_assigns[j] == i]\n",
    "        if len(cluster_data) > 0:\n",
    "            cluster_data = torch.stack(cluster_data)\n",
    "            centroid = centriods[i]\n",
    "            distances = torch.sum((cluster_data - centroid) ** 2, dim=1)\n",
    "            variances[i] = torch.sum(distances).item()\n",
    "    return sum(variances)\n",
    "\n",
    "k_range = range(1,10)\n",
    "k_values = list(k_range)\n",
    "variance = []\n",
    "\n",
    "for K in k_range:\n",
    "    cluster_assigns, final_centriods = your_kMeans(test_loader.dataset, K)\n",
    "    inertia = calculate_within_cluster_variance(test_loader.dataset, cluster_assigns, final_centriods)\n",
    "    variance.append(inertia)\n",
    "\n",
    "plt.plot(k_values, variance, marker='o')\n",
    "plt.xlabel('Number of Clusters (K)')\n",
    "plt.ylabel('Variance ')\n",
    "plt.title('Elbow Method')\n",
    "plt.show()\n",
    "\n",
    "\n",
    "\n",
    "\n",
    "\n",
    "\n"
   ]
  },
  {
   "cell_type": "markdown",
   "metadata": {
    "id": "bEFe1BZOfFZi"
   },
   "source": [
    "## Ex. 2.3 DeepCluster\n",
    "\n",
    "[DeepCluster](https://arxiv.org/pdf/1807.05520.pdf) trains representations using k-Means labels. We want you to do the same with your model and kMeans algorithm above.\n",
    "Train your model from scratch again on a classifier (one fully connected layer) using the newly assigned kMeans labels as targets. **(RESULT)**<br>\n",
    "\n",
    "Evaluate the model performance training only a new classifier (again, one fc layer), and do NOT retrain the whole model. State the accuracy of your final classifier on the MNIST test set. **(RESULT)**\n",
    "\n",
    "Info: If you think your k-Means has flaws or is running too slow for this task, feel free to use a library version, i.e. sklearn."
   ]
  },
  {
   "cell_type": "code",
   "execution_count": null,
   "metadata": {
    "colab": {
     "base_uri": "https://localhost:8080/"
    },
    "id": "ooiXHR1BfFZi",
    "outputId": "4ea290ca-982c-455c-bbda-100f7b3f59b4"
   },
   "outputs": [
    {
     "data": {
      "text/plain": [
       "48000"
      ]
     },
     "execution_count": 70,
     "metadata": {},
     "output_type": "execute_result"
    }
   ],
   "source": [
    "len(cluster_assigns)\n",
    "len(train_loader.dataset)"
   ]
  },
  {
   "cell_type": "markdown",
   "metadata": {
    "id": "D0BWTp8gvicF"
   },
   "source": [
    "##Using Skilearn K-Means (mine is too slow)"
   ]
  },
  {
   "cell_type": "code",
   "execution_count": null,
   "metadata": {
    "colab": {
     "base_uri": "https://localhost:8080/"
    },
    "id": "ECJ1kZxRyR2e",
    "outputId": "8d089f66-d3a7-4189-eae6-c7ab2b8c8764"
   },
   "outputs": [
    {
     "data": {
      "text/plain": [
       "ConvNeuralNetwork(\n",
       "  (conv_layers): Sequential(\n",
       "    (0): Conv2d(1, 8, kernel_size=(3, 3), stride=(1, 1), padding=(1, 1))\n",
       "    (1): ReLU()\n",
       "    (2): Conv2d(8, 16, kernel_size=(3, 3), stride=(1, 1), padding=(1, 1))\n",
       "    (3): ReLU()\n",
       "    (4): Conv2d(16, 32, kernel_size=(3, 3), stride=(1, 1), padding=(1, 1))\n",
       "    (5): ReLU()\n",
       "    (6): Conv2d(32, 16, kernel_size=(3, 3), stride=(1, 1), padding=(1, 1))\n",
       "    (7): ReLU()\n",
       "  )\n",
       "  (linear_layers): Sequential(\n",
       "    (0): Linear(in_features=12544, out_features=32, bias=True)\n",
       "    (1): ReLU()\n",
       "    (2): Linear(in_features=32, out_features=10, bias=True)\n",
       "  )\n",
       ")"
      ]
     },
     "execution_count": 82,
     "metadata": {},
     "output_type": "execute_result"
    }
   ],
   "source": [
    "model"
   ]
  },
  {
   "cell_type": "markdown",
   "metadata": {
    "id": "1qdt7j19PtD8"
   },
   "source": [
    "##Roadmap\n",
    "1. Extract features using CNN (Done 58 - 88)\n",
    "2. Apply K-Means to the features (Done 90- 93)\n",
    "3. Assign psuedo-labels (Done 97)\n",
    "4. Train a classifier on the pseudolabels ( Just on FC )\n",
    "5. Evaluate\n"
   ]
  },
  {
   "cell_type": "code",
   "execution_count": null,
   "metadata": {
    "id": "LG96hV4N0lbp"
   },
   "outputs": [],
   "source": [
    "import torch\n",
    "import torch.nn as nn\n",
    "import torch.optim as optim\n",
    "import torch.nn.functional as F\n",
    "import torchvision.transforms as transforms\n",
    "import torchvision.datasets as datasets\n",
    "from torch.utils.data import DataLoader, random_split,TensorDataset\n",
    "from tqdm import tqdm\n",
    "import random\n",
    "from sklearn.cluster import KMeans\n",
    "from sklearn.metrics import accuracy_score\n",
    "import numpy as np\n",
    "\n",
    "# CNN - Removed the classifier\n",
    "class ConvNeuralNetwork(nn.Module):\n",
    "    def __init__(self):\n",
    "        super(ConvNeuralNetwork, self).__init__()\n",
    "        self.conv_layers = nn.Sequential(\n",
    "            nn.Conv2d(1, 8, kernel_size=3, stride=1, padding=1),\n",
    "            nn.ReLU(),\n",
    "            nn.Conv2d(8, 16, kernel_size=3, stride=1, padding=1),\n",
    "            nn.ReLU(),\n",
    "            nn.Conv2d(16, 32, kernel_size=3, stride=1, padding=1),\n",
    "            nn.ReLU(),\n",
    "            nn.Conv2d(32, 16, kernel_size=3, stride=1, padding=1),\n",
    "            nn.ReLU(),\n",
    "        )\n",
    "\n",
    "    def forward(self, x):\n",
    "        x = self.conv_layers(x)\n",
    "        x = x.view(x.size(0), -1)\n",
    "        return x\n",
    "\n",
    "# Classifier\n",
    "\n",
    "class Classifier(nn.Module):\n",
    "    def __init__(self, input_size, output_size):\n",
    "        super(Classifier,self).__init__()\n",
    "        self.fc = nn.Sequential(\n",
    "            nn.Linear(input_size, 32),\n",
    "            nn.RELU(),\n",
    "            nn.Linear(32,output_size)\n",
    "        )\n",
    "\n",
    "    def forward(self, x):\n",
    "        x = self.fc(x)\n",
    "        return x\n",
    "\n",
    "# Loading data\n",
    "\n",
    "transform = transforms.Compose([transforms.ToTensor(), transforms.Normalize((0.5,), (0.5,))])\n",
    "train_dataset = datasets.MNIST(root='./data', train=True, transform=transform, download=True)\n",
    "batch_size = 32\n",
    "train_loader = DataLoader(train_dataset, batch_size=batch_size, shuffle=True)\n",
    "test_dataset = datasets.MNIST(root='./data', train=False, transform=transform, download=True)\n",
    "test_loader = DataLoader(test_dataset, batch_size=32, shuffle=False)\n",
    "\n",
    "# 1. Extracting features from CNN\n",
    "\n",
    "    #1.1 Pretain CNN from scratch\n",
    "model = ConvNeuralNetwork()\n",
    "optimizer = optim.Adam(model.parameters(), lr = 0.001)\n",
    "loss_function = nn.CrossEntropyLoss()\n",
    "\n",
    "epochs = 10\n",
    "\n",
    "for epoch in range(epochs):\n",
    "    model.train()\n",
    "    for data in train_loader:\n",
    "        inputs, labels = data\n",
    "        optimizer.zero_grad()\n",
    "        outputs = model(inputs)\n",
    "        loss = loss_function(outputs, labels)\n",
    "        loss.backward()\n",
    "        optimizer.step()\n",
    "\n",
    "\n",
    "    # 1.2 Extract features\n",
    "features = []\n",
    "labels = []\n",
    "\n",
    "with torch.no_grad():\n",
    "    model.eval()\n",
    "    for data in train_loader:\n",
    "        inputs, outputs = data\n",
    "        y_train = model(inputs)\n",
    "        features.extend(y_train.data.numpy())\n",
    "        labels.extend(outputs.numpy())\n",
    "\n",
    "# 2. Applying kmeans to features\n",
    "\n",
    "kmeans = KMeans(n_clusters = 10, random_state = 42)\n",
    "kmeans.fit(features)\n",
    "\n",
    "# 3. Assigning pseudolabels\n",
    "\n",
    "pseudo_labels = kmeans.predict(features) # 1D Array of 60000 elements.\n",
    "\n",
    "# 4. Classifier hyperparameters\n",
    "\n",
    "input_size = features.shape[1]\n",
    "output_size = 10\n",
    "\n",
    "classifier = Classifier(input_size,output_size)\n",
    "classifier_loss_function = nn.CrossEntropyLoss()\n",
    "classifier_optimizer = optim.Adam(classifier.parameters(), lr = 0.001)\n",
    "\n",
    "#5. Training the classifier on the pseudolabels\n",
    "\n",
    "pseudo_labels_t = torch.LongTensor(pseudo_labels)\n",
    "new_dataset = TensorDataset(torch.Tensor(features), pseudo_labels_t)\n",
    "new_dataloader= DataLoader(new_dataset,batch_size = 32, shuffle = True)\n",
    "\n",
    "\n",
    "for epoch in range(epochs):\n",
    "  classifier.train()\n",
    "  for data in new_dataloader:\n",
    "    inputs,labels = data\n",
    "    classifier_optimizer.zero_grad()\n",
    "    outputs = classifier(inputs)\n",
    "    loss = classifier_loss_function(outputs,labels)\n",
    "    loss.backward()\n",
    "    classifier_optimizer.step()\n",
    "\n",
    "# 5. Evaluating on MNIST test dataset, and showing accuracy finally\n",
    "\n",
    "classifier_predictions = []\n",
    "actual_labels = []\n",
    "\n",
    "with torch.no_grad():\n",
    "  classifier.eval()\n",
    "  for data in test_loader:\n",
    "    inputs, labels = data\n",
    "    y_test = model(inputs)\n",
    "    classifier_y_test = classifier(y_test)\n",
    "    classifier_predictions.extend(classifier_y_test.argmax(dim=1).numpy())\n",
    "    actual_labels.extend(labels.numpy())\n",
    "\n",
    "accuracy = accuracy_score(actual_labels, classifier_predictions)\n",
    "print(f\"Accuracy of the final classifier: {accuracy * 100:.2f}%\")\n",
    "\n",
    "\n",
    "\n"
   ]
  }
 ],
 "metadata": {
  "accelerator": "GPU",
  "colab": {
   "gpuType": "T4",
   "provenance": []
  },
  "kernelspec": {
   "display_name": "Python 3 (ipykernel)",
   "language": "python",
   "name": "python3"
  },
  "language_info": {
   "codemirror_mode": {
    "name": "ipython",
    "version": 3
   },
   "file_extension": ".py",
   "mimetype": "text/x-python",
   "name": "python",
   "nbconvert_exporter": "python",
   "pygments_lexer": "ipython3",
   "version": "3.11.4"
  }
 },
 "nbformat": 4,
 "nbformat_minor": 4
}
